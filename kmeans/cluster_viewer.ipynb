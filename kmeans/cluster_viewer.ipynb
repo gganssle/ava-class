{
 "cells": [
  {
   "cell_type": "code",
   "execution_count": 3,
   "metadata": {
    "collapsed": false
   },
   "outputs": [],
   "source": [
    "f = torch.DiskFile('/home/ubuntu/bbimgath/clustered','r')\n",
    "f:binary()"
   ]
  },
  {
   "cell_type": "code",
   "execution_count": 4,
   "metadata": {
    "collapsed": false
   },
   "outputs": [
    {
     "ename": "$ Torch: not enough memory: you tried to allocate 0GB. Buy new RAM! at /home/ubuntu/torch/pkg/torch/lib/TH/THGeneral.c:270\nstack traceback:\n\t[C]: at 0x7f05d535c130\n\t[C]: in function 'Tensor'\n\t[string \"dat = torch.Tensor(1501,45080)...\"]:1: in main chunk\n\t[C]: in function 'xpcall'\n\t/home/ubuntu/torch/install/share/lua/5.1/itorch/main.lua:210: in function </home/ubuntu/torch/install/share/lua/5.1/itorch/main.lua:174>\n\t/home/ubuntu/torch/install/share/lua/5.1/lzmq/poller.lua:75: in function 'poll'\n\t/home/ubuntu/torch/install/share/lua/5.1/lzmq/impl/loop.lua:307: in function 'poll'\n\t/home/ubuntu/torch/install/share/lua/5.1/lzmq/impl/loop.lua:325: in function 'sleep_ex'\n\t/home/ubuntu/torch/install/share/lua/5.1/lzmq/impl/loop.lua:370: in function 'start'\n\t/home/ubuntu/torch/install/share/lua/5.1/itorch/main.lua:389: in main chunk\n\t[C]: in function 'require'\n\t(command line):1: in main chunk\n\t[C]: at 0x00405d50",
     "evalue": "",
     "output_type": "error",
     "traceback": [
      "$ Torch: not enough memory: you tried to allocate 0GB. Buy new RAM! at /home/ubuntu/torch/pkg/torch/lib/TH/THGeneral.c:270\nstack traceback:\n\t[C]: at 0x7f05d535c130\n\t[C]: in function 'Tensor'\n\t[string \"dat = torch.Tensor(1501,45080)...\"]:1: in main chunk\n\t[C]: in function 'xpcall'\n\t/home/ubuntu/torch/install/share/lua/5.1/itorch/main.lua:210: in function </home/ubuntu/torch/install/share/lua/5.1/itorch/main.lua:174>\n\t/home/ubuntu/torch/install/share/lua/5.1/lzmq/poller.lua:75: in function 'poll'\n\t/home/ubuntu/torch/install/share/lua/5.1/lzmq/impl/loop.lua:307: in function 'poll'\n\t/home/ubuntu/torch/install/share/lua/5.1/lzmq/impl/loop.lua:325: in function 'sleep_ex'\n\t/home/ubuntu/torch/install/share/lua/5.1/lzmq/impl/loop.lua:370: in function 'start'\n\t/home/ubuntu/torch/install/share/lua/5.1/itorch/main.lua:389: in main chunk\n\t[C]: in function 'require'\n\t(command line):1: in main chunk\n\t[C]: at 0x00405d50"
     ]
    }
   ],
   "source": [
    "dat = torch.Tensor(1501,45080)"
   ]
  },
  {
   "cell_type": "code",
   "execution_count": null,
   "metadata": {
    "collapsed": true
   },
   "outputs": [],
   "source": []
  }
 ],
 "metadata": {
  "anaconda-cloud": {},
  "kernelspec": {
   "display_name": "iTorch",
   "language": "lua",
   "name": "itorch"
  },
  "language_info": {
   "name": "lua",
   "version": "5.1"
  }
 },
 "nbformat": 4,
 "nbformat_minor": 1
}
