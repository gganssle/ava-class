{
 "cells": [
  {
   "cell_type": "code",
   "execution_count": 14,
   "metadata": {
    "collapsed": true
   },
   "outputs": [],
   "source": [
    "require 'unsup'\n",
    "Plot = require'itorch.Plot'\n",
    "require 'image'"
   ]
  },
  {
   "cell_type": "code",
   "execution_count": 2,
   "metadata": {
    "collapsed": true
   },
   "outputs": [],
   "source": [
    "ns = 1501\n",
    "ntr = 45\n",
    "\n",
    "file = torch.DiskFile('/home/gram/ava-class/data_loading/test_dat/four_gathers.rsf@', 'r')\n",
    "file:binary()\n",
    "raw = file:readFloat(ns*ntr)\n",
    "file:close()\n",
    "\n",
    "dat = torch.Tensor(ns,ntr)\n",
    "\n",
    "for j = 1, ntr do\n",
    "        for i = 1, ns do\n",
    "                dat[i][j] = raw[i + (j-1)*ns]\n",
    "        end\n",
    "end\n",
    "\n",
    "\n",
    "e, v = unsup.pcacov(dat)"
   ]
  },
  {
   "cell_type": "code",
   "execution_count": 15,
   "metadata": {
    "collapsed": false
   },
   "outputs": [
    {
     "ename": "/home/gram/torch/install/share/lua/5.1/image/init.lua:1540: module 'qt' not found:\n\tno field package.preload['qt']\n\tno file '/home/gram/.luarocks/share/lua/5.1/qt.lua'\n\tno file '/home/gram/.luarocks/share/lua/5.1/qt/init.lua'\n\tno file '/home/gram/torch/install/share/lua/5.1/qt.lua'\n\tno file '/home/gram/torch/install/share/lua/5.1/qt/init.lua'\n\tno file './qt.lua'\n\tno file '/home/gram/torch/install/share/luajit-2.1.0-beta1/qt.lua'\n\tno file '/usr/local/share/lua/5.1/qt.lua'\n\tno file '/usr/local/share/lua/5.1/qt/init.lua'\n\tno file '/home/gram/torch/install/lib/qt.so'\n\tno file '/home/gram/.luarocks/lib/lua/5.1/qt.so'\n\tno file '/home/gram/torch/install/lib/lua/5.1/qt.so'\n\tno file './qt.so'\n\tno file '/usr/local/lib/lua/5.1/qt.so'\n\tno file '/usr/local/lib/lua/5.1/loadall.so'\nstack traceback:\n\t[C]: in function 'require'\n\t/home/gram/torch/install/share/lua/5.1/image/init.lua:1540: in function 'display'\n\t[string \"lena = image.load('/home/gram/Downloads/lena....\"]:2: in main chunk\n\t[C]: in function 'xpcall'\n\t/home/gram/torch/install/share/lua/5.1/itorch/main.lua:210: in function </home/gram/torch/install/share/lua/5.1/itorch/main.lua:174>\n\t/home/gram/torch/install/share/lua/5.1/lzmq/poller.lua:75: in function 'poll'\n\t/home/gram/torch/install/share/lua/5.1/lzmq/impl/loop.lua:307: in function 'poll'\n\t/home/gram/torch/install/share/lua/5.1/lzmq/impl/loop.lua:325: in function 'sleep_ex'\n\t/home/gram/torch/install/share/lua/5.1/lzmq/impl/loop.lua:370: in function 'start'\n\t/home/gram/torch/install/share/lua/5.1/itorch/main.lua:389: in main chunk\n\t[C]: in function 'require'\n\t(command line):1: in main chunk\n\t[C]: at 0x00405d50",
     "evalue": "",
     "output_type": "error",
     "traceback": [
      "/home/gram/torch/install/share/lua/5.1/image/init.lua:1540: module 'qt' not found:\n\tno field package.preload['qt']\n\tno file '/home/gram/.luarocks/share/lua/5.1/qt.lua'\n\tno file '/home/gram/.luarocks/share/lua/5.1/qt/init.lua'\n\tno file '/home/gram/torch/install/share/lua/5.1/qt.lua'\n\tno file '/home/gram/torch/install/share/lua/5.1/qt/init.lua'\n\tno file './qt.lua'\n\tno file '/home/gram/torch/install/share/luajit-2.1.0-beta1/qt.lua'\n\tno file '/usr/local/share/lua/5.1/qt.lua'\n\tno file '/usr/local/share/lua/5.1/qt/init.lua'\n\tno file '/home/gram/torch/install/lib/qt.so'\n\tno file '/home/gram/.luarocks/lib/lua/5.1/qt.so'\n\tno file '/home/gram/torch/install/lib/lua/5.1/qt.so'\n\tno file './qt.so'\n\tno file '/usr/local/lib/lua/5.1/qt.so'\n\tno file '/usr/local/lib/lua/5.1/loadall.so'\nstack traceback:\n\t[C]: in function 'require'\n\t/home/gram/torch/install/share/lua/5.1/image/init.lua:1540: in function 'display'\n\t[string \"lena = image.load('/home/gram/Downloads/lena....\"]:2: in main chunk\n\t[C]: in function 'xpcall'\n\t/home/gram/torch/install/share/lua/5.1/itorch/main.lua:210: in function </home/gram/torch/install/share/lua/5.1/itorch/main.lua:174>\n\t/home/gram/torch/install/share/lua/5.1/lzmq/poller.lua:75: in function 'poll'\n\t/home/gram/torch/install/share/lua/5.1/lzmq/impl/loop.lua:307: in function 'poll'\n\t/home/gram/torch/install/share/lua/5.1/lzmq/impl/loop.lua:325: in function 'sleep_ex'\n\t/home/gram/torch/install/share/lua/5.1/lzmq/impl/loop.lua:370: in function 'start'\n\t/home/gram/torch/install/share/lua/5.1/itorch/main.lua:389: in main chunk\n\t[C]: in function 'require'\n\t(command line):1: in main chunk\n\t[C]: at 0x00405d50"
     ]
    }
   ],
   "source": [
    "lena = image.load('/home/gram/Downloads/lena.jpg');\n",
    "image.display{lena}"
   ]
  },
  {
   "cell_type": "code",
   "execution_count": 16,
   "metadata": {
    "collapsed": false
   },
   "outputs": [
    {
     "ename": "/home/gram/torch/install/share/lua/5.1/image/init.lua:1540: module 'qt' not found:\n\tno field package.preload['qt']\n\tno file '/home/gram/.luarocks/share/lua/5.1/qt.lua'\n\tno file '/home/gram/.luarocks/share/lua/5.1/qt/init.lua'\n\tno file '/home/gram/torch/install/share/lua/5.1/qt.lua'\n\tno file '/home/gram/torch/install/share/lua/5.1/qt/init.lua'\n\tno file './qt.lua'\n\tno file '/home/gram/torch/install/share/luajit-2.1.0-beta1/qt.lua'\n\tno file '/usr/local/share/lua/5.1/qt.lua'\n\tno file '/usr/local/share/lua/5.1/qt/init.lua'\n\tno file '/home/gram/torch/install/lib/qt.so'\n\tno file '/home/gram/.luarocks/lib/lua/5.1/qt.so'\n\tno file '/home/gram/torch/install/lib/lua/5.1/qt.so'\n\tno file './qt.so'\n\tno file '/usr/local/lib/lua/5.1/qt.so'\n\tno file '/usr/local/lib/lua/5.1/loadall.so'\nstack traceback:\n\t[C]: in function 'require'\n\t/home/gram/torch/install/share/lua/5.1/image/init.lua:1540: in function 'display'\n\t[string \"l = image.lena()...\"]:2: in main chunk\n\t[C]: in function 'xpcall'\n\t/home/gram/torch/install/share/lua/5.1/itorch/main.lua:210: in function </home/gram/torch/install/share/lua/5.1/itorch/main.lua:174>\n\t/home/gram/torch/install/share/lua/5.1/lzmq/poller.lua:75: in function 'poll'\n\t/home/gram/torch/install/share/lua/5.1/lzmq/impl/loop.lua:307: in function 'poll'\n\t/home/gram/torch/install/share/lua/5.1/lzmq/impl/loop.lua:325: in function 'sleep_ex'\n\t/home/gram/torch/install/share/lua/5.1/lzmq/impl/loop.lua:370: in function 'start'\n\t/home/gram/torch/install/share/lua/5.1/itorch/main.lua:389: in main chunk\n\t[C]: in function 'require'\n\t(command line):1: in main chunk\n\t[C]: at 0x00405d50",
     "evalue": "",
     "output_type": "error",
     "traceback": [
      "/home/gram/torch/install/share/lua/5.1/image/init.lua:1540: module 'qt' not found:\n\tno field package.preload['qt']\n\tno file '/home/gram/.luarocks/share/lua/5.1/qt.lua'\n\tno file '/home/gram/.luarocks/share/lua/5.1/qt/init.lua'\n\tno file '/home/gram/torch/install/share/lua/5.1/qt.lua'\n\tno file '/home/gram/torch/install/share/lua/5.1/qt/init.lua'\n\tno file './qt.lua'\n\tno file '/home/gram/torch/install/share/luajit-2.1.0-beta1/qt.lua'\n\tno file '/usr/local/share/lua/5.1/qt.lua'\n\tno file '/usr/local/share/lua/5.1/qt/init.lua'\n\tno file '/home/gram/torch/install/lib/qt.so'\n\tno file '/home/gram/.luarocks/lib/lua/5.1/qt.so'\n\tno file '/home/gram/torch/install/lib/lua/5.1/qt.so'\n\tno file './qt.so'\n\tno file '/usr/local/lib/lua/5.1/qt.so'\n\tno file '/usr/local/lib/lua/5.1/loadall.so'\nstack traceback:\n\t[C]: in function 'require'\n\t/home/gram/torch/install/share/lua/5.1/image/init.lua:1540: in function 'display'\n\t[string \"l = image.lena()...\"]:2: in main chunk\n\t[C]: in function 'xpcall'\n\t/home/gram/torch/install/share/lua/5.1/itorch/main.lua:210: in function </home/gram/torch/install/share/lua/5.1/itorch/main.lua:174>\n\t/home/gram/torch/install/share/lua/5.1/lzmq/poller.lua:75: in function 'poll'\n\t/home/gram/torch/install/share/lua/5.1/lzmq/impl/loop.lua:307: in function 'poll'\n\t/home/gram/torch/install/share/lua/5.1/lzmq/impl/loop.lua:325: in function 'sleep_ex'\n\t/home/gram/torch/install/share/lua/5.1/lzmq/impl/loop.lua:370: in function 'start'\n\t/home/gram/torch/install/share/lua/5.1/itorch/main.lua:389: in main chunk\n\t[C]: in function 'require'\n\t(command line):1: in main chunk\n\t[C]: at 0x00405d50"
     ]
    }
   ],
   "source": [
    "l = image.lena()\n",
    "image.display(l)"
   ]
  },
  {
   "cell_type": "code",
   "execution_count": null,
   "metadata": {
    "collapsed": true
   },
   "outputs": [],
   "source": []
  }
 ],
 "metadata": {
  "kernelspec": {
   "display_name": "iTorch",
   "language": "lua",
   "name": "itorch"
  },
  "language_info": {
   "name": "lua",
   "version": "5.1"
  }
 },
 "nbformat": 4,
 "nbformat_minor": 1
}
